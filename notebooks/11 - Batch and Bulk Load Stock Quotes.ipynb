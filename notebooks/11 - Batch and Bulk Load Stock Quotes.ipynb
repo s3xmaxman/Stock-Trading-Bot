{
 "cells": [
  {
   "cell_type": "code",
   "execution_count": null,
   "metadata": {},
   "outputs": [],
   "source": [
    "import setup\n",
    "\n",
    "\n",
    "setup.init_django()"
   ]
  },
  {
   "cell_type": "code",
   "execution_count": null,
   "metadata": {},
   "outputs": [],
   "source": [
    "import helpers.clients as helper_clients"
   ]
  },
  {
   "cell_type": "code",
   "execution_count": null,
   "metadata": {},
   "outputs": [],
   "source": [
    "company_name = \"Google\"\n",
    "company_ticker = \"GOOG\"\n",
    "multiplier = 1\n",
    "from_date = \"2023-01-09\"\n",
    "to_date = \"2023-04-09\""
   ]
  },
  {
   "cell_type": "code",
   "execution_count": null,
   "metadata": {},
   "outputs": [],
   "source": [
    "client = helper_clients.PolygonAPIClient(\n",
    "    ticker=company_ticker,\n",
    "    multiplier=multiplier,\n",
    "    from_date=from_date,\n",
    "    to_date=to_date,\n",
    ")\n",
    "dataset = client.get_stock_data()"
   ]
  },
  {
   "cell_type": "code",
   "execution_count": null,
   "metadata": {},
   "outputs": [],
   "source": [
    "len(dataset)"
   ]
  },
  {
   "cell_type": "code",
   "execution_count": null,
   "metadata": {},
   "outputs": [],
   "source": [
    "new_stock_data = dataset[0]\n",
    "new_stock_data"
   ]
  },
  {
   "cell_type": "code",
   "execution_count": null,
   "metadata": {},
   "outputs": [],
   "source": [
    "from market.models import Company, StockQuote\n",
    "\n",
    "company_object, created = Company.objects.get_or_create(\n",
    "    name=company_name,\n",
    "    ticker=company_ticker,\n",
    ")\n",
    "company_object"
   ]
  },
  {
   "cell_type": "code",
   "execution_count": null,
   "metadata": {},
   "outputs": [],
   "source": [
    "StockQuote.objects.all()"
   ]
  },
  {
   "cell_type": "code",
   "execution_count": null,
   "metadata": {},
   "outputs": [],
   "source": [
    "batch_size = 1000\n",
    "for i in range(0, len(dataset), batch_size):\n",
    "    batch_chunk = dataset[i : i + batch_size]\n",
    "    chunk_quotes = []\n",
    "    for data in batch_chunk:\n",
    "        chunk_quotes.append(StockQuote(company=company_object, **data))\n",
    "    StockQuote.objects.bulk_create(chunk_quotes, ignore_conflicts=True)"
   ]
  },
  {
   "cell_type": "code",
   "execution_count": null,
   "metadata": {},
   "outputs": [],
   "source": [
    "StockQuote.objects.all().count()"
   ]
  }
 ],
 "metadata": {
  "kernelspec": {
   "display_name": "venv",
   "language": "python",
   "name": "python3"
  },
  "language_info": {
   "name": "python",
   "version": "3.12.5"
  }
 },
 "nbformat": 4,
 "nbformat_minor": 2
}
