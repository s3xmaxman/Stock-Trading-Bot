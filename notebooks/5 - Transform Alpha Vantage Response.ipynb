{
 "cells": [
  {
   "cell_type": "code",
   "execution_count": 1,
   "metadata": {},
   "outputs": [],
   "source": [
    "from decouple import config\n",
    "import requests"
   ]
  },
  {
   "cell_type": "code",
   "execution_count": 2,
   "metadata": {},
   "outputs": [],
   "source": [
    "assert config(\"ALPHA_VANTAGE_API_KEY\", default=None, cast=str) is not None\n",
    "ALPHA_VANTAGE_API_KEY = config(\"ALPHA_VANTAGE_API_KEY\", default=None, cast=str)"
   ]
  },
  {
   "cell_type": "code",
   "execution_count": 3,
   "metadata": {},
   "outputs": [],
   "source": [
    "api_key = ALPHA_VANTAGE_API_KEY\n",
    "\n",
    "params = {\n",
    "    \"api_key\": api_key,\n",
    "    \"ticker\": \"AAPL\",\n",
    "    \"function\": \"TIME_SERIES_INTRADAY\",\n",
    "}\n",
    "\n",
    "url = url = (\n",
    "    \"https://www.alphavantage.co/query?function={function}&symbol={ticker}&interval=1min&apikey={api_key}\".format(\n",
    "        **params\n",
    "    )\n",
    ")\n",
    "\n",
    "response = requests.get(url)\n",
    "data = response.json()"
   ]
  },
  {
   "cell_type": "code",
   "execution_count": null,
   "metadata": {},
   "outputs": [],
   "source": [
    "dataset_key = [x for x in list(data.keys()) if not x.lower() == \"meta data\"][0]\n",
    "dataset_key"
   ]
  },
  {
   "cell_type": "code",
   "execution_count": 5,
   "metadata": {},
   "outputs": [],
   "source": [
    "results = data[dataset_key]"
   ]
  },
  {
   "cell_type": "code",
   "execution_count": null,
   "metadata": {},
   "outputs": [],
   "source": [
    "timestamp_str = list(results.keys())[0]\n",
    "timestamp_str"
   ]
  },
  {
   "cell_type": "code",
   "execution_count": null,
   "metadata": {},
   "outputs": [],
   "source": [
    "result_value = results.get(timestamp_str)\n",
    "result_value"
   ]
  },
  {
   "cell_type": "code",
   "execution_count": 10,
   "metadata": {},
   "outputs": [],
   "source": [
    "import pytz\n",
    "from datetime import datetime\n",
    "from decimal import Decimal\n",
    "\n",
    "\n",
    "def transform_alpha_vantage_result(timestamp_str, result):\n",
    "    timestamp_format = \"%Y-%m-%d %H:%M:%S\"\n",
    "    eastern = pytz.timezone(\"US/Eastern\")\n",
    "    utc = pytz.utc\n",
    "    timestamp = eastern.localize(\n",
    "        datetime.strptime(timestamp_str, timestamp_format)\n",
    "    ).astimezone(utc)\n",
    "\n",
    "    return {\n",
    "        \"open_price\": Decimal(result[\"1. open\"]),\n",
    "        \"close_price\": Decimal(result[\"4. close\"]),\n",
    "        \"high_price\": Decimal(result[\"2. high\"]),\n",
    "        \"low_price\": Decimal(result[\"3. low\"]),\n",
    "        \"number_of_trades\": None,\n",
    "        \"volume\": int(result[\"5. volume\"]),\n",
    "        \"volume_weighted_average\": None,\n",
    "    }"
   ]
  },
  {
   "cell_type": "code",
   "execution_count": null,
   "metadata": {},
   "outputs": [],
   "source": [
    "transform_alpha_vantage_result(timestamp_str, result_value)"
   ]
  },
  {
   "cell_type": "code",
   "execution_count": null,
   "metadata": {},
   "outputs": [],
   "source": [
    "for timestamp_str in results.keys():\n",
    "    new_data = transform_alpha_vantage_result(timestamp_str, results.get(timestamp_str))\n",
    "    print(new_data)"
   ]
  }
 ],
 "metadata": {
  "kernelspec": {
   "display_name": "venv",
   "language": "python",
   "name": "python3"
  },
  "language_info": {
   "codemirror_mode": {
    "name": "ipython",
    "version": 3
   },
   "file_extension": ".py",
   "mimetype": "text/x-python",
   "name": "python",
   "nbconvert_exporter": "python",
   "pygments_lexer": "ipython3",
   "version": "3.12.5"
  }
 },
 "nbformat": 4,
 "nbformat_minor": 2
}
