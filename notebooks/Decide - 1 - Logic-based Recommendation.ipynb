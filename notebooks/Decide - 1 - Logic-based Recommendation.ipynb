{
 "cells": [
  {
   "cell_type": "code",
   "execution_count": 1,
   "id": "e85ed483-d2ef-4920-a1b5-51dd0eddf4a6",
   "metadata": {},
   "outputs": [],
   "source": [
    "import setup\n",
    "\n",
    "\n",
    "setup.init_django()"
   ]
  },
  {
   "cell_type": "code",
   "execution_count": 2,
   "id": "9b9ca555-32fb-4f46-a606-48e409b235f7",
   "metadata": {},
   "outputs": [],
   "source": [
    "from market import services as market_services"
   ]
  },
  {
   "cell_type": "code",
   "execution_count": 3,
   "id": "b0d27cf2-6c7c-4dfa-9425-6da85d9a0e32",
   "metadata": {},
   "outputs": [],
   "source": [
    "ticker = \"META\"\n",
    "days = 30\n",
    "queryset = market_services.get_daily_stock_quotes_queryset(ticker, days=days)\n",
    "averages = market_services.get_daily_moving_averages(\n",
    "    ticker, days=days, queryset=queryset\n",
    ")\n",
    "price_target = market_services.get_price_target(ticker, days=days, queryset=queryset)\n",
    "volume_trend = market_services.get_volume_trend(ticker, days=days, queryset=queryset)\n",
    "rsi_data = market_services.calculate_rsi(ticker, days=days, period=14)"
   ]
  },
  {
   "cell_type": "code",
   "execution_count": null,
   "id": "2950c286-0a81-4821-946a-c97af92e5d99",
   "metadata": {},
   "outputs": [],
   "source": [
    "price_target"
   ]
  },
  {
   "cell_type": "code",
   "execution_count": 5,
   "id": "e7a65b3a-10eb-4d72-816d-fb32fd392a4c",
   "metadata": {},
   "outputs": [],
   "source": [
    "signals = []"
   ]
  },
  {
   "cell_type": "code",
   "execution_count": 6,
   "id": "12a20850-720a-4ea8-813a-8664b44f1d0a",
   "metadata": {},
   "outputs": [],
   "source": [
    "if averages.get(\"ma_5\") > averages.get(\"ma_20\"):\n",
    "    signals.append(1)\n",
    "else:\n",
    "    signals.append(-1)"
   ]
  },
  {
   "cell_type": "code",
   "execution_count": 7,
   "id": "c18d7b23-06c2-44b7-96cc-6c4310d830bb",
   "metadata": {},
   "outputs": [],
   "source": [
    "if price_target.get(\"current_price\") < price_target.get(\"conservative_target\"):\n",
    "    signals.append(1)\n",
    "else:\n",
    "    signals.append(-1)"
   ]
  },
  {
   "cell_type": "code",
   "execution_count": null,
   "id": "58291706-5bc2-4009-be15-f9548b7e1b28",
   "metadata": {},
   "outputs": [],
   "source": [
    "volume_trend"
   ]
  },
  {
   "cell_type": "code",
   "execution_count": 9,
   "id": "8b3f8e11-c8d7-49ae-b73d-6be27a06a091",
   "metadata": {},
   "outputs": [],
   "source": [
    "if volume_trend.get(\"volume_change_percent\") > 20:\n",
    "    signals.append(1)\n",
    "elif volume_trend.get(\"volume_change_percent\") < -20:\n",
    "    signals.append(-1)\n",
    "else:\n",
    "    signals.append(0)"
   ]
  },
  {
   "cell_type": "code",
   "execution_count": null,
   "id": "b96c970e-baa0-477e-bf3e-4c1b4dc9eb9a",
   "metadata": {},
   "outputs": [],
   "source": [
    "rsi_data"
   ]
  },
  {
   "cell_type": "code",
   "execution_count": 11,
   "id": "e77b6ada-ddab-4e6d-b2d8-41378b6677a3",
   "metadata": {},
   "outputs": [],
   "source": [
    "rsi = rsi_data.get(\"rsi\")\n",
    "if rsi > 70:\n",
    "    signals.append(-1)  # Overbought\n",
    "elif rsi < 30:\n",
    "    signals.append(1)  # Oversold\n",
    "else:\n",
    "    signals.append(0)"
   ]
  },
  {
   "cell_type": "code",
   "execution_count": null,
   "id": "cd8d0220-ec15-4a25-9d51-764c41ae1f12",
   "metadata": {},
   "outputs": [],
   "source": [
    "score = sum(signals)\n",
    "score"
   ]
  },
  {
   "cell_type": "code",
   "execution_count": null,
   "id": "7c6817f4-6676-4e2d-af52-4492e11bdc2a",
   "metadata": {},
   "outputs": [],
   "source": [
    "if score >= 2:\n",
    "    print(\"BUY\")\n",
    "elif score <= -2:\n",
    "    print(\"SELL\")\n",
    "else:\n",
    "    print(\"HOLD\")"
   ]
  }
 ],
 "metadata": {
  "kernelspec": {
   "display_name": "venv",
   "language": "python",
   "name": "python3"
  },
  "language_info": {
   "codemirror_mode": {
    "name": "ipython",
    "version": 3
   },
   "file_extension": ".py",
   "mimetype": "text/x-python",
   "name": "python",
   "nbconvert_exporter": "python",
   "pygments_lexer": "ipython3",
   "version": "3.12.5"
  }
 },
 "nbformat": 4,
 "nbformat_minor": 5
}
