{
 "cells": [
  {
   "cell_type": "code",
   "execution_count": 1,
   "metadata": {},
   "outputs": [],
   "source": [
    "from decouple import config\n",
    "import requests"
   ]
  },
  {
   "cell_type": "code",
   "execution_count": 16,
   "metadata": {},
   "outputs": [],
   "source": [
    "assert config(\"POLOGYON_API_KEY\", default=None, cast=str) is not None"
   ]
  },
  {
   "cell_type": "code",
   "execution_count": null,
   "metadata": {},
   "outputs": [],
   "source": [
    "ticker = \"AAPL\"\n",
    "multiplier = \"5\"\n",
    "timespan = \"minute\"\n",
    "from_date = \"2023-01-09\"\n",
    "to_date = \"2023-01-09\"\n",
    "path = f\"/v2/aggs/ticker/{ticker}/range/{multiplier}/{timespan}/{from_date}/{to_date}\"\n",
    "url = f\"https://api.polygon.io{path}?apiKey={POLOGYON_API_KEY}\""
   ]
  },
  {
   "cell_type": "code",
   "execution_count": 17,
   "metadata": {},
   "outputs": [],
   "source": [
    "import pytz\n",
    "from dataclasses import dataclass\n",
    "from typing import Literal\n",
    "from urllib.parse import urlencode\n",
    "from datetime import datetime\n",
    "\n",
    "\n",
    "POLOGYON_API_KEY = config(\"POLOGYON_API_KEY\", default=None, cast=str)\n",
    "\n",
    "\n",
    "def transform_polygon_result(result):\n",
    "    unix_timestamp = result.get(\"t\") / 1000.0\n",
    "    utc_timestamp = datetime.fromtimestamp(unix_timestamp, tz=pytz.timezone(\"UTC\"))\n",
    "    return {\n",
    "        \"open_price\": result.get(\"o\"),\n",
    "        \"high_price\": result.get(\"h\"),\n",
    "        \"low_price\": result.get(\"l\"),\n",
    "        \"close_price\": result.get(\"c\"),\n",
    "        \"number_of_trades\": result.get(\"n\"),\n",
    "        \"volume\": result.get(\"v\"),\n",
    "        \"volume_weighted_average\": result.get(\"vw\"),\n",
    "        \"time\": utc_timestamp,\n",
    "    }\n",
    "\n",
    "\n",
    "@dataclass\n",
    "class PolygonAPIClient:\n",
    "    ticker: str = \"AAPL\"\n",
    "    multiplier: int = 5\n",
    "    timespan: str = \"minute\"\n",
    "    from_date: str = \"2023-01-09\"\n",
    "    to_date: str = \"2023-01-09\"\n",
    "    api_key: str = \"\"\n",
    "    adjusted: bool = True\n",
    "    sort: Literal[\"asc\", \"desc\"] = \"asc\"\n",
    "\n",
    "    def get_api_key(self):\n",
    "        return self.api_key or POLOGYON_API_KEY\n",
    "\n",
    "    def get_headers(self):\n",
    "        api_key = self.get_api_key()\n",
    "        return {\"Authorization\": f\"Bearer {api_key}\"}\n",
    "\n",
    "    def get_params(self):\n",
    "        return {\"adjusted\": self.adjusted, \"sort\": self.sort}\n",
    "\n",
    "    def generate_url(self, pass_auth=False):\n",
    "        path = f\"/v2/aggs/ticker/{self.ticker}/range/{self.multiplier}/{self.timespan}/{self.from_date}/{self.to_date}\"\n",
    "        url = f\"https://api.polygon.io{path}\"\n",
    "        params = self.get_params()\n",
    "        encoded_params = urlencode(params)\n",
    "        url = f\"{url}?{encoded_params}\"\n",
    "        if pass_auth:\n",
    "            api_key = self.get_api_key()\n",
    "            url += f\"&api_key={api_key}\"\n",
    "        return url\n",
    "\n",
    "    def fetch_data(self):\n",
    "        headers = self.get_headers()\n",
    "        url = self.generate_url()\n",
    "        response = requests.get(url, headers=headers)\n",
    "        response.raise_for_status()\n",
    "        return response.json()\n",
    "\n",
    "    def get_stock_data(self):\n",
    "        data = self.fetch_data()\n",
    "        results = data[\"results\"]\n",
    "        dataset = []\n",
    "        for result in results:\n",
    "            dataset.append(transform_polygon_result(result))\n",
    "        return dataset"
   ]
  },
  {
   "cell_type": "code",
   "execution_count": null,
   "metadata": {},
   "outputs": [],
   "source": [
    "stock_api_client = PolygonAPIClient(ticker=\"GOOG\", multiplier=1)\n",
    "stock_api_client.generate_url()"
   ]
  },
  {
   "cell_type": "code",
   "execution_count": null,
   "metadata": {},
   "outputs": [],
   "source": [
    "dataset = stock_api_client.get_stock_data()\n",
    "dataset"
   ]
  }
 ],
 "metadata": {
  "kernelspec": {
   "display_name": "venv",
   "language": "python",
   "name": "python3"
  },
  "language_info": {
   "codemirror_mode": {
    "name": "ipython",
    "version": 3
   },
   "file_extension": ".py",
   "mimetype": "text/x-python",
   "name": "python",
   "nbconvert_exporter": "python",
   "pygments_lexer": "ipython3",
   "version": "3.12.5"
  }
 },
 "nbformat": 4,
 "nbformat_minor": 2
}
