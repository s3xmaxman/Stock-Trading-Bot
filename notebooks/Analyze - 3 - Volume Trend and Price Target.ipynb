{
 "cells": [
  {
   "cell_type": "code",
   "execution_count": 7,
   "id": "e85ed483-d2ef-4920-a1b5-51dd0eddf4a6",
   "metadata": {},
   "outputs": [],
   "source": [
    "import setup\n",
    "\n",
    "setup.init_django()"
   ]
  },
  {
   "cell_type": "code",
   "execution_count": 8,
   "id": "9b9ca555-32fb-4f46-a606-48e409b235f7",
   "metadata": {},
   "outputs": [],
   "source": [
    "from market.models import StockQuote"
   ]
  },
  {
   "cell_type": "code",
   "execution_count": 9,
   "id": "31ffb14d-43f3-4bbb-813b-50526ff9bfd6",
   "metadata": {},
   "outputs": [],
   "source": [
    "from django.db.models import Avg, F, RowRange, Window, Max, Min\n",
    "from django.db.models.functions import TruncDate, FirstValue\n",
    "from django.utils import timezone\n",
    "from datetime import timedelta\n",
    "from decimal import Decimal"
   ]
  },
  {
   "cell_type": "code",
   "execution_count": 10,
   "id": "cee627e2-6fe5-4b27-9027-8e07ffbe24b8",
   "metadata": {},
   "outputs": [],
   "source": [
    "days_ago = 30\n",
    "now = timezone.now()\n",
    "start_date = now - timedelta(days=30)\n",
    "end_date = now\n",
    "ticker = \"META\""
   ]
  },
  {
   "cell_type": "code",
   "execution_count": null,
   "id": "d93c0176-d3fa-4db6-b47d-ced32a6d2507",
   "metadata": {},
   "outputs": [],
   "source": [
    "latest_daily_timestamps = (\n",
    "    StockQuote.timescale.filter(\n",
    "        company__ticker=ticker, time__range=(start_date - timedelta(days=40), end_date)\n",
    "    )\n",
    "    .time_bucket(\"time\", \"1 day\")\n",
    "    .annotate(date=TruncDate(\"time\"))\n",
    "    .values(\"company\", \"date\")\n",
    "    .annotate(latest_time=Max(\"time\"))\n",
    "    .values(\"company\", \"date\", \"latest_time\")\n",
    "    .order_by(\"date\")\n",
    ")\n",
    "\n",
    "actual_timestamps = list(set([x[\"latest_time\"] for x in latest_daily_timestamps]))\n",
    "len(actual_timestamps)"
   ]
  },
  {
   "cell_type": "code",
   "execution_count": 12,
   "id": "5a64b03f-7724-4253-a412-95a98ac1ff35",
   "metadata": {},
   "outputs": [],
   "source": [
    "qs = StockQuote.timescale.filter(\n",
    "    company__ticker=ticker,\n",
    "    time__range=(start_date, end_date),\n",
    "    time__in=actual_timestamps,\n",
    ")"
   ]
  },
  {
   "cell_type": "code",
   "execution_count": 13,
   "id": "1586782f-2759-49eb-ae74-6611c1626813",
   "metadata": {},
   "outputs": [],
   "source": [
    "def get_volume_trend(queryset, days=5):\n",
    "    \"\"\"\n",
    "    Analyze recent volume trends\n",
    "    \"\"\"\n",
    "    start = -(days - 1)\n",
    "    data = (\n",
    "        queryset.annotate(\n",
    "            avg_volume=Window(\n",
    "                expression=Avg(\"volume\"),\n",
    "                order_by=F(\"time\").asc(),\n",
    "                partition_by=[],\n",
    "                frame=RowRange(start=start, end=0),\n",
    "            )\n",
    "        )\n",
    "        .order_by(\"-time\")\n",
    "        .first()\n",
    "    )\n",
    "\n",
    "    if not data:\n",
    "        return None\n",
    "    volume_change = ((data.volume - data.avg_volume) / data.avg_volume) * 100\n",
    "    return {\n",
    "        \"avg_volume\": float(data.avg_volume),\n",
    "        \"latest_volume\": int(data.volume),\n",
    "        \"volume_change_percent\": float(volume_change),\n",
    "    }"
   ]
  },
  {
   "cell_type": "code",
   "execution_count": null,
   "id": "99dc15ab-63f9-4bbc-8377-043c8a669a71",
   "metadata": {},
   "outputs": [],
   "source": [
    "get_volume_trend(qs)"
   ]
  },
  {
   "cell_type": "code",
   "execution_count": 15,
   "id": "76e23c23-e0ec-4d1a-b5e4-0fe89d09643a",
   "metadata": {},
   "outputs": [],
   "source": [
    "def get_simple_target(ticker, timestamps=[], days=180):\n",
    "    \"\"\"\n",
    "    Simplified price target calculation\n",
    "    \"\"\"\n",
    "    end_date = timezone.now()\n",
    "    start_date = end_date - timedelta(days=days)\n",
    "    lookups = {\"company__ticker\": ticker, \"time__range\": (start_date, end_date)}\n",
    "    if len(timestamps) > 0:\n",
    "        lookups[\"time__in\"] = timestamps\n",
    "    daily_data = (\n",
    "        StockQuote.timescale.filter(**lookups)\n",
    "        .time_bucket(\"time\", \"1 day\")\n",
    "        .annotate(\n",
    "            latest_price=Window(\n",
    "                expression=FirstValue(\"close_price\"),\n",
    "                partition_by=[],\n",
    "                order_by=F(\"time\").desc(),\n",
    "            )\n",
    "        )\n",
    "        .aggregate(\n",
    "            current_price=Max(\"latest_price\"),\n",
    "            avg_price=Avg(\"close_price\"),\n",
    "            highest=Max(\"high_price\"),\n",
    "            lowest=Min(\"low_price\"),\n",
    "        )\n",
    "    )\n",
    "\n",
    "    if not daily_data:\n",
    "        return None\n",
    "\n",
    "    current_price = float(daily_data[\"current_price\"])\n",
    "    avg_price = float(daily_data[\"avg_price\"])\n",
    "    price_range = float(daily_data[\"highest\"]) - float(daily_data[\"lowest\"])\n",
    "\n",
    "    # Simple target based on average price and recent range\n",
    "    conservative_target = current_price + (price_range * 0.382)  # 38.2% Fibonacci\n",
    "    aggressive_target = current_price + (price_range * 0.618)  # 61.8% Fibonacci\n",
    "\n",
    "    return {\n",
    "        \"current_price\": current_price,\n",
    "        \"conservative_target\": conservative_target,\n",
    "        \"aggressive_target\": aggressive_target,\n",
    "        \"average_price\": avg_price,\n",
    "    }"
   ]
  },
  {
   "cell_type": "code",
   "execution_count": null,
   "id": "9ee11312-df57-4bd1-bee6-1d4e2a94d00d",
   "metadata": {},
   "outputs": [],
   "source": [
    "get_simple_target(\"META\")"
   ]
  }
 ],
 "metadata": {
  "kernelspec": {
   "display_name": "venv",
   "language": "python",
   "name": "python3"
  },
  "language_info": {
   "codemirror_mode": {
    "name": "ipython",
    "version": 3
   },
   "file_extension": ".py",
   "mimetype": "text/x-python",
   "name": "python",
   "nbconvert_exporter": "python",
   "pygments_lexer": "ipython3",
   "version": "3.12.5"
  }
 },
 "nbformat": 4,
 "nbformat_minor": 5
}
