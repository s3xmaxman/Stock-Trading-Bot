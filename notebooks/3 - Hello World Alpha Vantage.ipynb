{
 "cells": [
  {
   "cell_type": "code",
   "execution_count": null,
   "metadata": {},
   "outputs": [],
   "source": [
    "from decouple import config\n",
    "import requests"
   ]
  },
  {
   "cell_type": "code",
   "execution_count": null,
   "metadata": {},
   "outputs": [],
   "source": [
    "assert config(\"ALPHA_VANTAGE_API_KEY\", default=None, cast=str) is not None\n",
    "ALPHA_VANTAGE_API_KEY = config(\"ALPHA_VANTAGE_API_KEY\", default=None, cast=str)"
   ]
  },
  {
   "cell_type": "code",
   "execution_count": null,
   "metadata": {},
   "outputs": [],
   "source": [
    "api_key = ALPHA_VANTAGE_API_KEY\n",
    "\n",
    "params = {\n",
    "    \"api_key\": api_key,\n",
    "    \"ticker\": \"AAPL\",\n",
    "    \"function\": \"TIME_SERIES_INTRADAY\",\n",
    "}\n",
    "\n",
    "url = \"https://www.alphavantage.co/query?function={function}&symbol={ticker}&interval=5min&apikey={api_key}\".format(\n",
    "    **params\n",
    ")\n",
    "\n",
    "response = requests.get(url)\n",
    "data = response.json()\n",
    "data"
   ]
  }
 ],
 "metadata": {
  "kernelspec": {
   "display_name": "venv",
   "language": "python",
   "name": "python3"
  },
  "language_info": {
   "name": "python",
   "version": "3.12.5"
  }
 },
 "nbformat": 4,
 "nbformat_minor": 2
}
